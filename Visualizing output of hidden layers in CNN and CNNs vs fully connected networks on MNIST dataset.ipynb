{
 "cells": [
  {
   "cell_type": "code",
   "execution_count": 0,
   "metadata": {
    "colab": {},
    "colab_type": "code",
    "id": "uNp787sbsnkl"
   },
   "outputs": [],
   "source": [
    "import numpy as np\n",
    "import tensorflow as tf\n",
    "import matplotlib.pyplot as plt\n",
    "\n",
    "from tensorflow.keras.datasets import mnist #to import our dataset\n",
    "from tensorflow.keras.models import Sequential # imports our type of network\n",
    "from tensorflow.keras.layers import Dense, Dropout, Activation, Flatten\n",
    "from tensorflow.keras.layers import Conv2D, MaxPooling2D\n",
    "from tensorflow.python.keras.optimizers import RMSprop\n",
    "\n",
    "from tensorflow.python.keras.losses import categorical_crossentropy #loss function\n",
    "from tensorflow.python.keras.optimizers import Adam, SGD #optimisers\n",
    "from tensorflow.python.keras.utils import to_categorical #some function for data preparation\n",
    "from tensorflow.keras.datasets import cifar10\n",
    "\n",
    "\n",
    "%matplotlib inline"
   ]
  },
  {
   "cell_type": "markdown",
   "metadata": {
    "colab_type": "text",
    "id": "3KwI28WEH23X"
   },
   "source": [
    "## CNNs vs Fully Connected Networks"
   ]
  },
  {
   "cell_type": "code",
   "execution_count": 3,
   "metadata": {
    "colab": {
     "base_uri": "https://localhost:8080/",
     "height": 67
    },
    "colab_type": "code",
    "id": "_uh__dWqsnks",
    "outputId": "7c734c90-b86f-4688-ea87-ed0c08950e8e"
   },
   "outputs": [
    {
     "name": "stdout",
     "output_type": "stream",
     "text": [
      "x_train shape: (60000, 28, 28)\n",
      "60000 train samples\n",
      "10000 test samples\n"
     ]
    }
   ],
   "source": [
    "batch_size = 128\n",
    "num_classes = 10\n",
    "epochs = 20\n",
    "\n",
    "# the data, split between train and test sets\n",
    "(x_train, y_train), (x_test, y_test) = mnist.load_data()\n",
    "\n",
    "x_train = x_train.astype('float32')\n",
    "x_test = x_test.astype('float32')\n",
    "x_train /= 255\n",
    "x_test /= 255\n",
    "print('x_train shape:', x_train.shape)\n",
    "print(x_train.shape[0], 'train samples')\n",
    "print(x_test.shape[0], 'test samples')\n",
    "\n",
    "# convert class vectors to binary class matrices\n",
    "y_train = to_categorical(y_train, num_classes)\n",
    "y_test = to_categorical(y_test, num_classes)"
   ]
  },
  {
   "cell_type": "code",
   "execution_count": 0,
   "metadata": {
    "colab": {},
    "colab_type": "code",
    "id": "bmnvscglsnk0"
   },
   "outputs": [],
   "source": [
    "## Putting images at random places\n",
    "a = np.random.choice(range(1,23))\n",
    "b = 22 - a #need to add 22 units of padding\n",
    "c =  np.random.choice(range(1,23))\n",
    "d = 22 - c\n",
    "x_train = np.pad(x_train, [[0,0], [a,b], [c,d]], 'constant')\n",
    "x_test = np.pad(x_test, [[0,0], [a,b], [c,d]], 'constant')"
   ]
  },
  {
   "cell_type": "code",
   "execution_count": 5,
   "metadata": {
    "colab": {
     "base_uri": "https://localhost:8080/",
     "height": 34
    },
    "colab_type": "code",
    "id": "tuWc64aNsnk3",
    "outputId": "57d20676-9837-498c-b2c2-15288c7e7e2a"
   },
   "outputs": [
    {
     "data": {
      "text/plain": [
       "(60000, 50, 50)"
      ]
     },
     "execution_count": 5,
     "metadata": {
      "tags": []
     },
     "output_type": "execute_result"
    }
   ],
   "source": [
    "x_train.shape"
   ]
  },
  {
   "cell_type": "code",
   "execution_count": 6,
   "metadata": {
    "colab": {
     "base_uri": "https://localhost:8080/",
     "height": 87
    },
    "colab_type": "code",
    "id": "JAc4d9Jcsnk7",
    "outputId": "3fe6572a-f19a-4db8-94df-4e6f31a4f325"
   },
   "outputs": [
    {
     "name": "stdout",
     "output_type": "stream",
     "text": [
      "WARNING:tensorflow:From /usr/local/lib/python3.6/dist-packages/tensorflow/python/ops/resource_variable_ops.py:435: colocate_with (from tensorflow.python.framework.ops) is deprecated and will be removed in a future version.\n",
      "Instructions for updating:\n",
      "Colocations handled automatically by placer.\n"
     ]
    }
   ],
   "source": [
    "#Neural network with single dense hidden layer\n",
    "\n",
    "model = Sequential()\n",
    "model.add(Flatten())\n",
    "model.add(Dense(128, activation='relu'))\n",
    "model.add(Dense(num_classes, activation='softmax'))\n",
    "\n",
    "model.compile(loss=categorical_crossentropy,\n",
    "              optimizer=SGD(), metrics=['accuracy'], verbose = 1)\n",
    "\n",
    "#model.compile(loss=categorical_crossentropy,optimizer=Adadelta())"
   ]
  },
  {
   "cell_type": "code",
   "execution_count": 7,
   "metadata": {
    "colab": {
     "base_uri": "https://localhost:8080/",
     "height": 776
    },
    "colab_type": "code",
    "id": "dzc1QevLsnk-",
    "outputId": "ea605cd0-ddb0-4e88-86e3-5ea60cf524d0",
    "scrolled": false
   },
   "outputs": [
    {
     "name": "stdout",
     "output_type": "stream",
     "text": [
      "Train on 60000 samples, validate on 10000 samples\n",
      "WARNING:tensorflow:From /usr/local/lib/python3.6/dist-packages/tensorflow/python/ops/math_ops.py:3066: to_int32 (from tensorflow.python.ops.math_ops) is deprecated and will be removed in a future version.\n",
      "Instructions for updating:\n",
      "Use tf.cast instead.\n",
      "Epoch 1/20\n",
      "60000/60000 [==============================] - 3s 56us/sample - loss: 1.1559 - acc: 0.7560 - val_loss: 0.6281 - val_acc: 0.8642\n",
      "Epoch 2/20\n",
      "60000/60000 [==============================] - 3s 48us/sample - loss: 0.5406 - acc: 0.8697 - val_loss: 0.4485 - val_acc: 0.8878\n",
      "Epoch 3/20\n",
      "60000/60000 [==============================] - 3s 48us/sample - loss: 0.4329 - acc: 0.8872 - val_loss: 0.3867 - val_acc: 0.8963\n",
      "Epoch 4/20\n",
      "60000/60000 [==============================] - 3s 48us/sample - loss: 0.3858 - acc: 0.8957 - val_loss: 0.3523 - val_acc: 0.9053\n",
      "Epoch 5/20\n",
      "60000/60000 [==============================] - 3s 49us/sample - loss: 0.3578 - acc: 0.9014 - val_loss: 0.3312 - val_acc: 0.9099\n",
      "Epoch 6/20\n",
      "60000/60000 [==============================] - 3s 49us/sample - loss: 0.3381 - acc: 0.9059 - val_loss: 0.3155 - val_acc: 0.9136\n",
      "Epoch 7/20\n",
      "60000/60000 [==============================] - 3s 48us/sample - loss: 0.3231 - acc: 0.9098 - val_loss: 0.3038 - val_acc: 0.9166\n",
      "Epoch 8/20\n",
      "60000/60000 [==============================] - 3s 48us/sample - loss: 0.3108 - acc: 0.9132 - val_loss: 0.2928 - val_acc: 0.9204\n",
      "Epoch 9/20\n",
      "60000/60000 [==============================] - 3s 49us/sample - loss: 0.3004 - acc: 0.9155 - val_loss: 0.2850 - val_acc: 0.9211\n",
      "Epoch 10/20\n",
      "60000/60000 [==============================] - 3s 48us/sample - loss: 0.2913 - acc: 0.9183 - val_loss: 0.2767 - val_acc: 0.9228\n",
      "Epoch 11/20\n",
      "60000/60000 [==============================] - 3s 49us/sample - loss: 0.2829 - acc: 0.9211 - val_loss: 0.2705 - val_acc: 0.9259\n",
      "Epoch 12/20\n",
      "60000/60000 [==============================] - 3s 48us/sample - loss: 0.2754 - acc: 0.9232 - val_loss: 0.2629 - val_acc: 0.9282\n",
      "Epoch 13/20\n",
      "60000/60000 [==============================] - 3s 49us/sample - loss: 0.2683 - acc: 0.9249 - val_loss: 0.2566 - val_acc: 0.9300\n",
      "Epoch 14/20\n",
      "60000/60000 [==============================] - 3s 49us/sample - loss: 0.2617 - acc: 0.9269 - val_loss: 0.2524 - val_acc: 0.9293\n",
      "Epoch 15/20\n",
      "60000/60000 [==============================] - 3s 48us/sample - loss: 0.2555 - acc: 0.9286 - val_loss: 0.2462 - val_acc: 0.9324\n",
      "Epoch 16/20\n",
      "60000/60000 [==============================] - 3s 49us/sample - loss: 0.2495 - acc: 0.9307 - val_loss: 0.2409 - val_acc: 0.9328\n",
      "Epoch 17/20\n",
      "60000/60000 [==============================] - 3s 49us/sample - loss: 0.2440 - acc: 0.9321 - val_loss: 0.2364 - val_acc: 0.9347\n",
      "Epoch 18/20\n",
      "60000/60000 [==============================] - 3s 48us/sample - loss: 0.2387 - acc: 0.9338 - val_loss: 0.2313 - val_acc: 0.9368\n",
      "Epoch 19/20\n",
      "60000/60000 [==============================] - 3s 48us/sample - loss: 0.2336 - acc: 0.9355 - val_loss: 0.2273 - val_acc: 0.9375\n",
      "Epoch 20/20\n",
      "60000/60000 [==============================] - 3s 48us/sample - loss: 0.2287 - acc: 0.9363 - val_loss: 0.2235 - val_acc: 0.9381\n"
     ]
    }
   ],
   "source": [
    "history1=model.fit(x_train, y_train,\n",
    "          batch_size=batch_size,\n",
    "          epochs=epochs,\n",
    "          verbose=1,\n",
    "          validation_data=(x_test, y_test))"
   ]
  },
  {
   "cell_type": "code",
   "execution_count": 8,
   "metadata": {
    "colab": {
     "base_uri": "https://localhost:8080/",
     "height": 617
    },
    "colab_type": "code",
    "id": "XT_Ef7JKsnlC",
    "outputId": "63eae624-dd6a-4bad-ea15-2231a8ae576f"
   },
   "outputs": [
    {
     "name": "stdout",
     "output_type": "stream",
     "text": [
      "10000/10000 [==============================] - 1s 71us/sample - loss: 0.2235 - acc: 0.9381\n",
      "\n",
      "Test loss: 0.22348147659003734\n",
      "Test accuracy: 0.9381\n"
     ]
    },
    {
     "data": {
      "image/png": "[encoded data removed]",
      "text/plain": [
       "<Figure size 432x288 with 1 Axes>"
      ]
     },
     "metadata": {
      "tags": []
     },
     "output_type": "display_data"
    },
    {
     "data": {
      "image/png": "[encoded data removed]",
      "text/plain": [
       "<Figure size 432x288 with 1 Axes>"
      ]
     },
     "metadata": {
      "tags": []
     },
     "output_type": "display_data"
    }
   ],
   "source": [
    "# evaluate model\n",
    "score = model.evaluate(x_test, y_test, verbose=1)\n",
    "\n",
    "# print performance\n",
    "print()\n",
    "print('Test loss:', score[0])\n",
    "print('Test accuracy:', score[1])\n",
    "\n",
    "# look into training history\n",
    "\n",
    "# summarize history for accuracy\n",
    "plt.plot(history1.history['acc'])\n",
    "plt.plot(history1.history['val_acc'])\n",
    "plt.ylabel('model accuracy')\n",
    "plt.xlabel('epoch')\n",
    "plt.legend(['train', 'test'], loc='best')\n",
    "plt.show()\n",
    "\n",
    "# summarize history for loss\n",
    "plt.plot(history1.history['loss'])\n",
    "plt.plot(history1.history['val_loss'])\n",
    "plt.ylabel('model loss')\n",
    "plt.xlabel('epoch')\n",
    "plt.legend(['train', 'test'], loc='best')\n",
    "plt.show()"
   ]
  },
  {
   "cell_type": "code",
   "execution_count": 0,
   "metadata": {
    "colab": {},
    "colab_type": "code",
    "id": "HehBx6N6snlF"
   },
   "outputs": [],
   "source": [
    "# Preparing data for CNN:\n",
    "#Reshape the data into 2D data (or 3D with 1 color channel)\n",
    "\n",
    "x_train = x_train.reshape((x_train.shape[0], 50, 50, 1))\n",
    "\n",
    "x_test = x_test.reshape((x_test.shape[0], 50, 50, 1))"
   ]
  },
  {
   "cell_type": "code",
   "execution_count": 10,
   "metadata": {
    "colab": {
     "base_uri": "https://localhost:8080/",
     "height": 470
    },
    "colab_type": "code",
    "id": "i3P78-q2snlI",
    "outputId": "bed3cb72-308c-410f-fe68-c93494ee8dc3"
   },
   "outputs": [
    {
     "name": "stdout",
     "output_type": "stream",
     "text": [
      "_________________________________________________________________\n",
      "Layer (type)                 Output Shape              Param #   \n",
      "=================================================================\n",
      "conv2d (Conv2D)              (None, 50, 50, 32)        832       \n",
      "_________________________________________________________________\n",
      "max_pooling2d (MaxPooling2D) (None, 25, 25, 32)        0         \n",
      "_________________________________________________________________\n",
      "activation (Activation)      (None, 25, 25, 32)        0         \n",
      "_________________________________________________________________\n",
      "conv2d_1 (Conv2D)            (None, 21, 21, 64)        51264     \n",
      "_________________________________________________________________\n",
      "max_pooling2d_1 (MaxPooling2 (None, 10, 10, 64)        0         \n",
      "_________________________________________________________________\n",
      "activation_1 (Activation)    (None, 10, 10, 64)        0         \n",
      "_________________________________________________________________\n",
      "flatten_1 (Flatten)          (None, 6400)              0         \n",
      "_________________________________________________________________\n",
      "dense_2 (Dense)              (None, 120)               768120    \n",
      "_________________________________________________________________\n",
      "dense_3 (Dense)              (None, 84)                10164     \n",
      "_________________________________________________________________\n",
      "dense_4 (Dense)              (None, 10)                850       \n",
      "=================================================================\n",
      "Total params: 831,230\n",
      "Trainable params: 831,230\n",
      "Non-trainable params: 0\n",
      "_________________________________________________________________\n"
     ]
    }
   ],
   "source": [
    "#LeNet-5\n",
    "\n",
    "cnn = Sequential()\n",
    "\n",
    "cnn.add(Conv2D(32, kernel_size=5, padding='same', activation='relu', input_shape=(50, 50, 1)))\n",
    "cnn.add(MaxPooling2D(pool_size=2, strides=2, padding='valid'))\n",
    "cnn.add(Activation('relu'))\n",
    "        \n",
    "cnn.add(Conv2D(64, kernel_size=5, activation='relu', padding='valid'))\n",
    "cnn.add(MaxPooling2D(pool_size=2, strides=2, padding='valid'))\n",
    "cnn.add(Activation('relu'))\n",
    "\n",
    "cnn.add(Flatten())\n",
    "\n",
    "cnn.add(Dense(units=120, activation='relu'))\n",
    "cnn.add(Dense(units=84, activation='relu'))\n",
    "cnn.add(Dense(units=10, activation = 'softmax'))\n",
    "        \n",
    "cnn.summary()"
   ]
  },
  {
   "cell_type": "code",
   "execution_count": 11,
   "metadata": {
    "colab": {
     "base_uri": "https://localhost:8080/",
     "height": 87
    },
    "colab_type": "code",
    "id": "TFMF6sFGsnlO",
    "outputId": "7b901dce-b7fd-46e4-83f5-8f1f491580f6"
   },
   "outputs": [
    {
     "name": "stdout",
     "output_type": "stream",
     "text": [
      "WARNING:tensorflow:From /usr/local/lib/python3.6/dist-packages/tensorflow/python/keras/utils/losses_utils.py:170: to_float (from tensorflow.python.ops.math_ops) is deprecated and will be removed in a future version.\n",
      "Instructions for updating:\n",
      "Use tf.cast instead.\n"
     ]
    }
   ],
   "source": [
    "## Compiling the model. Using different loss functions and optimizers.\n",
    "sgd  = tf.keras.optimizers.SGD()\n",
    "cnn.compile(loss='mean_squared_error', optimizer=sgd , metrics=['accuracy'])"
   ]
  },
  {
   "cell_type": "code",
   "execution_count": 12,
   "metadata": {
    "colab": {
     "base_uri": "https://localhost:8080/",
     "height": 1042
    },
    "colab_type": "code",
    "id": "mGIboVedsnlQ",
    "outputId": "37107733-1f5f-4bca-b299-e8936b550afb"
   },
   "outputs": [
    {
     "name": "stdout",
     "output_type": "stream",
     "text": [
      "Epoch 1/30\n",
      "60000/60000 [==============================] - 10s 171us/sample - loss: 0.0899 - acc: 0.1279\n",
      "Epoch 2/30\n",
      "60000/60000 [==============================] - 9s 149us/sample - loss: 0.0897 - acc: 0.1574\n",
      "Epoch 3/30\n",
      "60000/60000 [==============================] - 9s 150us/sample - loss: 0.0895 - acc: 0.2077\n",
      "Epoch 4/30\n",
      "60000/60000 [==============================] - 9s 150us/sample - loss: 0.0892 - acc: 0.2663\n",
      "Epoch 5/30\n",
      "60000/60000 [==============================] - 9s 150us/sample - loss: 0.0890 - acc: 0.3041\n",
      "Epoch 6/30\n",
      "60000/60000 [==============================] - 9s 149us/sample - loss: 0.0887 - acc: 0.3315\n",
      "Epoch 7/30\n",
      "60000/60000 [==============================] - 9s 149us/sample - loss: 0.0883 - acc: 0.3774\n",
      "Epoch 8/30\n",
      "60000/60000 [==============================] - 9s 149us/sample - loss: 0.0878 - acc: 0.4293\n",
      "Epoch 9/30\n",
      "60000/60000 [==============================] - 9s 149us/sample - loss: 0.0872 - acc: 0.4717\n",
      "Epoch 10/30\n",
      "60000/60000 [==============================] - 9s 150us/sample - loss: 0.0863 - acc: 0.4925\n",
      "Epoch 11/30\n",
      "60000/60000 [==============================] - 9s 150us/sample - loss: 0.0850 - acc: 0.5073\n",
      "Epoch 12/30\n",
      "60000/60000 [==============================] - 9s 150us/sample - loss: 0.0828 - acc: 0.5070\n",
      "Epoch 13/30\n",
      "60000/60000 [==============================] - 9s 149us/sample - loss: 0.0789 - acc: 0.5009\n",
      "Epoch 14/30\n",
      "60000/60000 [==============================] - 9s 149us/sample - loss: 0.0722 - acc: 0.5108\n",
      "Epoch 15/30\n",
      "60000/60000 [==============================] - 9s 150us/sample - loss: 0.0637 - acc: 0.5562\n",
      "Epoch 16/30\n",
      "60000/60000 [==============================] - 9s 149us/sample - loss: 0.0536 - acc: 0.6905\n",
      "Epoch 17/30\n",
      "60000/60000 [==============================] - 9s 150us/sample - loss: 0.0430 - acc: 0.7630\n",
      "Epoch 18/30\n",
      "60000/60000 [==============================] - 9s 150us/sample - loss: 0.0352 - acc: 0.7988\n",
      "Epoch 19/30\n",
      "60000/60000 [==============================] - 9s 149us/sample - loss: 0.0293 - acc: 0.8350\n",
      "Epoch 20/30\n",
      "60000/60000 [==============================] - 9s 149us/sample - loss: 0.0251 - acc: 0.8572\n",
      "Epoch 21/30\n",
      "60000/60000 [==============================] - 9s 149us/sample - loss: 0.0222 - acc: 0.8720\n",
      "Epoch 22/30\n",
      "60000/60000 [==============================] - 9s 149us/sample - loss: 0.0203 - acc: 0.8804\n",
      "Epoch 23/30\n",
      "60000/60000 [==============================] - 9s 149us/sample - loss: 0.0188 - acc: 0.8866\n",
      "Epoch 24/30\n",
      "60000/60000 [==============================] - 9s 149us/sample - loss: 0.0177 - acc: 0.8924\n",
      "Epoch 25/30\n",
      "60000/60000 [==============================] - 9s 148us/sample - loss: 0.0169 - acc: 0.8963\n",
      "Epoch 26/30\n",
      "60000/60000 [==============================] - 9s 148us/sample - loss: 0.0162 - acc: 0.9001\n",
      "Epoch 27/30\n",
      "60000/60000 [==============================] - 9s 150us/sample - loss: 0.0156 - acc: 0.9030\n",
      "Epoch 28/30\n",
      "60000/60000 [==============================] - 9s 150us/sample - loss: 0.0150 - acc: 0.9060\n",
      "Epoch 29/30\n",
      "60000/60000 [==============================] - 9s 149us/sample - loss: 0.0146 - acc: 0.9092\n",
      "Epoch 30/30\n",
      "60000/60000 [==============================] - 9s 148us/sample - loss: 0.0142 - acc: 0.9108\n"
     ]
    },
    {
     "data": {
      "text/plain": [
       "<tensorflow.python.keras.callbacks.History at 0x7f2053027c88>"
      ]
     },
     "execution_count": 12,
     "metadata": {
      "tags": []
     },
     "output_type": "execute_result"
    }
   ],
   "source": [
    "cnn.fit(x_train, y_train, epochs=30 ,batch_size=128 , verbose=1)"
   ]
  },
  {
   "cell_type": "markdown",
   "metadata": {
    "colab_type": "text",
    "id": "CK_-jA8xI6h8"
   },
   "source": [
    "## Visualizing output of Hidden layers of a CNN (already trained)"
   ]
  },
  {
   "cell_type": "code",
   "execution_count": 13,
   "metadata": {
    "colab": {
     "base_uri": "https://localhost:8080/",
     "height": 87
    },
    "colab_type": "code",
    "id": "l2XcaQSqsnlU",
    "outputId": "61a646dd-bf24-4888-f8fd-180c5bbb92dd"
   },
   "outputs": [
    {
     "name": "stdout",
     "output_type": "stream",
     "text": [
      "WARNING:tensorflow:From /usr/local/lib/python3.6/dist-packages/tensorflow/python/keras/layers/core.py:143: calling dropout (from tensorflow.python.ops.nn_ops) with keep_prob is deprecated and will be removed in a future version.\n",
      "Instructions for updating:\n",
      "Please use `rate` instead of `keep_prob`. Rate should be set to `rate = 1 - keep_prob`.\n"
     ]
    }
   ],
   "source": [
    "model3 = tf.keras.models.load_model('keras_cifar10_trained_model.h5')"
   ]
  },
  {
   "cell_type": "code",
   "execution_count": 14,
   "metadata": {
    "colab": {
     "base_uri": "https://localhost:8080/",
     "height": 739
    },
    "colab_type": "code",
    "id": "ot0wXORIsnlW",
    "outputId": "e52947c5-9633-4c52-f9e2-a76f98a5009f"
   },
   "outputs": [
    {
     "name": "stdout",
     "output_type": "stream",
     "text": [
      "_________________________________________________________________\n",
      "Layer (type)                 Output Shape              Param #   \n",
      "=================================================================\n",
      "conv2d_8 (Conv2D)            (None, 32, 32, 32)        896       \n",
      "_________________________________________________________________\n",
      "activation_12 (Activation)   (None, 32, 32, 32)        0         \n",
      "_________________________________________________________________\n",
      "conv2d_9 (Conv2D)            (None, 30, 30, 32)        9248      \n",
      "_________________________________________________________________\n",
      "activation_13 (Activation)   (None, 30, 30, 32)        0         \n",
      "_________________________________________________________________\n",
      "max_pooling2d_4 (MaxPooling2 (None, 15, 15, 32)        0         \n",
      "_________________________________________________________________\n",
      "dropout_6 (Dropout)          (None, 15, 15, 32)        0         \n",
      "_________________________________________________________________\n",
      "conv2d_10 (Conv2D)           (None, 15, 15, 64)        18496     \n",
      "_________________________________________________________________\n",
      "activation_14 (Activation)   (None, 15, 15, 64)        0         \n",
      "_________________________________________________________________\n",
      "conv2d_11 (Conv2D)           (None, 13, 13, 64)        36928     \n",
      "_________________________________________________________________\n",
      "activation_15 (Activation)   (None, 13, 13, 64)        0         \n",
      "_________________________________________________________________\n",
      "max_pooling2d_5 (MaxPooling2 (None, 6, 6, 64)          0         \n",
      "_________________________________________________________________\n",
      "dropout_7 (Dropout)          (None, 6, 6, 64)          0         \n",
      "_________________________________________________________________\n",
      "flatten_2 (Flatten)          (None, 2304)              0         \n",
      "_________________________________________________________________\n",
      "dense_4 (Dense)              (None, 512)               1180160   \n",
      "_________________________________________________________________\n",
      "activation_16 (Activation)   (None, 512)               0         \n",
      "_________________________________________________________________\n",
      "dropout_8 (Dropout)          (None, 512)               0         \n",
      "_________________________________________________________________\n",
      "dense_5 (Dense)              (None, 10)                5130      \n",
      "_________________________________________________________________\n",
      "activation_17 (Activation)   (None, 10)                0         \n",
      "=================================================================\n",
      "Total params: 1,250,858\n",
      "Trainable params: 1,250,858\n",
      "Non-trainable params: 0\n",
      "_________________________________________________________________\n"
     ]
    }
   ],
   "source": [
    "model3.summary()"
   ]
  },
  {
   "cell_type": "code",
   "execution_count": 0,
   "metadata": {
    "colab": {},
    "colab_type": "code",
    "id": "1i0YM3Q9snla"
   },
   "outputs": [],
   "source": [
    "# Preparing the data for input\n",
    "\n",
    "num_classes = 10\n",
    "(xc_train, yc_train), (xc_test, yc_test) = cifar10.load_data()\n",
    "\n",
    "# Convert class vectors to binary class matrices.\n",
    "yc_train = tf.keras.utils.to_categorical(yc_train, num_classes)\n",
    "yc_test = tf.keras.utils.to_categorical(yc_test, num_classes)"
   ]
  },
  {
   "cell_type": "code",
   "execution_count": 16,
   "metadata": {
    "colab": {
     "base_uri": "https://localhost:8080/",
     "height": 34
    },
    "colab_type": "code",
    "id": "fZ-1lZtnuD8z",
    "outputId": "06032788-f3cf-4079-c8be-949485b6d6e7"
   },
   "outputs": [
    {
     "name": "stdout",
     "output_type": "stream",
     "text": [
      "6028\n"
     ]
    }
   ],
   "source": [
    "predc = model3.predict(xc_test)\n",
    "mismatch = [] ## this list will store indices of all wrong predictions\n",
    "for i in range(len(xc_test)):\n",
    "  if np.array_equal(predc[i].astype(int), yc_test[i]):\n",
    "    continue\n",
    "  else:\n",
    "    mismatch.append(i)\n",
    "  \n",
    "print(len(mismatch))"
   ]
  },
  {
   "cell_type": "markdown",
   "metadata": {
    "colab_type": "text",
    "id": "YJykAeimJrTs"
   },
   "source": [
    "#### As we can see there are around 60% (6028 mismatches out of 10000) mismatches so the model we imported is not performing really well"
   ]
  },
  {
   "cell_type": "code",
   "execution_count": 0,
   "metadata": {
    "colab": {},
    "colab_type": "code",
    "id": "0RhowSbOq3-4"
   },
   "outputs": [],
   "source": [
    "layer_weights = model3.layers[0].get_weights()[0]\n",
    "layer3_weights = model3.layers[2].get_weights()[0]\n",
    "layer4_weights = model3.layers[6].get_weights()[0]\n"
   ]
  },
  {
   "cell_type": "code",
   "execution_count": 0,
   "metadata": {
    "colab": {},
    "colab_type": "code",
    "id": "T030mNEiGIX9"
   },
   "outputs": [],
   "source": [
    "#Printing the activation from all the layers\n",
    "\n",
    "layer_outputs = [layer.output for layer in model3.layers] # Extracts the outputs of the layers\n",
    "activation_model = tf.keras.models.Model(inputs=model3.input, outputs=layer_outputs) # Creates a model that will return these outputs, given the model input"
   ]
  },
  {
   "cell_type": "code",
   "execution_count": 18,
   "metadata": {
    "colab": {
     "base_uri": "https://localhost:8080/",
     "height": 292
    },
    "colab_type": "code",
    "id": "_ssb53ChGKgM",
    "outputId": "93e88b64-3f07-4f82-90b5-3d1b9fd60b47"
   },
   "outputs": [
    {
     "data": {
      "text/plain": [
       "<matplotlib.image.AxesImage at 0x7f2051e39860>"
      ]
     },
     "execution_count": 18,
     "metadata": {
      "tags": []
     },
     "output_type": "execute_result"
    },
    {
     "data": {
      "image/png": "[encoded data removed]",
      "text/plain": [
       "<Figure size 288x288 with 1 Axes>"
      ]
     },
     "metadata": {
      "tags": []
     },
     "output_type": "display_data"
    }
   ],
   "source": [
    "activations = activation_model.predict(xc_test[0:1])\n",
    "plt.matshow(xc_test[0,:,:,1], cmap='viridis')"
   ]
  },
  {
   "cell_type": "code",
   "execution_count": 19,
   "metadata": {
    "colab": {
     "base_uri": "https://localhost:8080/",
     "height": 34
    },
    "colab_type": "code",
    "id": "HrIXM5OiGk0R",
    "outputId": "0ca91cb2-7579-4b8c-8887-6618a8d15183"
   },
   "outputs": [
    {
     "name": "stdout",
     "output_type": "stream",
     "text": [
      "(1, 32, 32, 32)\n"
     ]
    }
   ],
   "source": [
    "# Output/Activation of the first layer\n",
    "first_layer_activation = activations[0]\n",
    "print(first_layer_activation.shape)"
   ]
  },
  {
   "cell_type": "code",
   "execution_count": 20,
   "metadata": {
    "colab": {
     "base_uri": "https://localhost:8080/",
     "height": 292
    },
    "colab_type": "code",
    "id": "0t_O6x_UHF6z",
    "outputId": "81cde78b-6ce1-458d-a52b-8af60293653d"
   },
   "outputs": [
    {
     "data": {
      "text/plain": [
       "<matplotlib.image.AxesImage at 0x7f2051e11e80>"
      ]
     },
     "execution_count": 20,
     "metadata": {
      "tags": []
     },
     "output_type": "execute_result"
    },
    {
     "data": {
      "image/png": "[encoded data removed]",
      "text/plain": [
       "<Figure size 288x288 with 1 Axes>"
      ]
     },
     "metadata": {
      "tags": []
     },
     "output_type": "display_data"
    }
   ],
   "source": [
    "## Printing the output from the first layer only\n",
    "plt.matshow(first_layer_activation[0, :, :, 4], cmap='viridis')"
   ]
  }
 ],
 "metadata": {
  "accelerator": "GPU",
  "colab": {
   "name": "Abhishek Malik_05.ipynb",
   "provenance": [],
   "version": "0.3.2"
  },
  "kernelspec": {
   "display_name": "Python 3",
   "language": "python",
   "name": "python3"
  },
  "language_info": {
   "codemirror_mode": {
    "name": "ipython",
    "version": 3
   },
   "file_extension": ".py",
   "mimetype": "text/x-python",
   "name": "python",
   "nbconvert_exporter": "python",
   "pygments_lexer": "ipython3",
   "version": "3.6.8"
  }
 },
 "nbformat": 4,
 "nbformat_minor": 1
}
