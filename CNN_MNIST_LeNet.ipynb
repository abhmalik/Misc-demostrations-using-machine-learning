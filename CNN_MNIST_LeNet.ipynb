{
 "cells": [
  {
   "cell_type": "markdown",
   "metadata": {},
   "source": [
    "# CNN for MNIST dataset"
   ]
  },
  {
   "cell_type": "code",
   "execution_count": 1,
   "metadata": {},
   "outputs": [],
   "source": [
    "# First import all important libraries for the network class\n",
    "import numpy as np\n",
    "# Import TensorFlow\n",
    "import tensorflow as tf\n",
    "# Import matplotlib so we can look at the data\n",
    "import matplotlib.pyplot as plt\n",
    "import matplotlib.cm as cm\n",
    "%matplotlib inline"
   ]
  },
  {
   "cell_type": "markdown",
   "metadata": {},
   "source": [
    "### Get the MNIST data"
   ]
  },
  {
   "cell_type": "code",
   "execution_count": 2,
   "metadata": {},
   "outputs": [],
   "source": [
    "# Get the MNIST dataset from scikit learn\n",
    "\n",
    "from sklearn.datasets import fetch_openml\n",
    "mnist = fetch_openml('mnist_784', version=1, cache=True)\n",
    "\n",
    "# Define the features and the labels\n",
    "X, y = mnist['data'], np.asfarray(mnist['target'])"
   ]
  },
  {
   "cell_type": "code",
   "execution_count": 25,
   "metadata": {},
   "outputs": [
    {
     "data": {
      "text/plain": [
       "3.0"
      ]
     },
     "execution_count": 25,
     "metadata": {},
     "output_type": "execute_result"
    },
    {
     "data": {
      "image/png": "[encoded data removed]",
      "text/plain": [
       "<Figure size 432x288 with 1 Axes>"
      ]
     },
     "metadata": {
      "needs_background": "light"
     },
     "output_type": "display_data"
    }
   ],
   "source": [
    "# Define some index, get the corresponding image, and plot it\n",
    "some_index = 10000\n",
    "some_digit = X[some_index]\n",
    "some_digit_image = some_digit.reshape(28,28)\n",
    "plt.imshow(some_digit_image, cmap=cm.jet, interpolation='nearest')\n",
    "plt.axis('off')\n",
    "\n",
    "# Check the label/\n",
    "y[some_index]"
   ]
  },
  {
   "cell_type": "code",
   "execution_count": 41,
   "metadata": {},
   "outputs": [],
   "source": [
    "# Define the training and test set\n",
    "X_train, X_test, y_train, y_test = X[:60000], X[60000:], y[:60000], y[60000:]\n",
    "\n",
    "# Shuffle the training set to make sure training goes smooth\n",
    "shuffle_index = np.random.permutation(60000)\n",
    "X_train, y_train = X_train[shuffle_index], y_train[shuffle_index]"
   ]
  },
  {
   "cell_type": "code",
   "execution_count": 43,
   "metadata": {},
   "outputs": [],
   "source": [
    "#Reshape the data into 2D data (or 3D with 1 color channel)\n",
    "\n",
    "X_train = X_train/255\n",
    "X_Traindata = X_train.reshape((X_train.shape[0], 28, 28, 1))\n",
    "\n",
    "X_test = X_test/255\n",
    "X_test = X_test.reshape((X_test.shape[0], 28, 28, 1))"
   ]
  },
  {
   "cell_type": "code",
   "execution_count": 16,
   "metadata": {},
   "outputs": [],
   "source": [
    "#b = np.ones(784).reshape(28,28)\n",
    "X_Traindata = np.pad(X_Traindata, ((0,0),(2,2),(2,2),(0,0)), 'constant')\n",
    "X_test = np.pad(X_test, ((0,0),(2,2),(2,2),(0,0)), 'constant')"
   ]
  },
  {
   "cell_type": "markdown",
   "metadata": {},
   "source": [
    "### Designing a CNN with Keras\n",
    "\n",
    "Following the LeNet-5 architecture with Convolutional and Average Pooling Layers."
   ]
  },
  {
   "cell_type": "code",
   "execution_count": 1,
   "metadata": {},
   "outputs": [],
   "source": [
    "## Parameters for CNN\n",
    "n_fmaps = 6\n",
    "n_fmaps2 = 16\n",
    "#n_fmaps3 = 120\n",
    "\n",
    "npix = 28\n",
    "learning_rate = 0.1"
   ]
  },
  {
   "cell_type": "code",
   "execution_count": 47,
   "metadata": {},
   "outputs": [
    {
     "name": "stdout",
     "output_type": "stream",
     "text": [
      "_________________________________________________________________\n",
      "Layer (type)                 Output Shape              Param #   \n",
      "=================================================================\n",
      "conv2d_2 (Conv2D)            (None, 28, 28, 6)         156       \n",
      "_________________________________________________________________\n",
      "average_pooling2d_2 (Average (None, 14, 14, 6)         0         \n",
      "_________________________________________________________________\n",
      "activation_2 (Activation)    (None, 14, 14, 6)         0         \n",
      "_________________________________________________________________\n",
      "conv2d_3 (Conv2D)            (None, 10, 10, 16)        2416      \n",
      "_________________________________________________________________\n",
      "average_pooling2d_3 (Average (None, 5, 5, 16)          0         \n",
      "_________________________________________________________________\n",
      "activation_3 (Activation)    (None, 5, 5, 16)          0         \n",
      "_________________________________________________________________\n",
      "flatten_1 (Flatten)          (None, 400)               0         \n",
      "_________________________________________________________________\n",
      "dense_3 (Dense)              (None, 120)               48120     \n",
      "_________________________________________________________________\n",
      "dense_4 (Dense)              (None, 84)                10164     \n",
      "_________________________________________________________________\n",
      "dense_5 (Dense)              (None, 1)                 85        \n",
      "=================================================================\n",
      "Total params: 60,941\n",
      "Trainable params: 60,941\n",
      "Non-trainable params: 0\n",
      "_________________________________________________________________\n"
     ]
    }
   ],
   "source": [
    "#LeNet-5\n",
    "\n",
    "cnn = tf.keras.models.Sequential()\n",
    "\n",
    "cnn.add(tf.keras.layers.Conv2D(n_fmaps, kernel_size=5, padding='same', activation='relu', input_shape=(npix,npix,1)))\n",
    "cnn.add(tf.keras.layers.AveragePooling2D(pool_size=2, strides=2, padding='valid'))\n",
    "cnn.add(tf.keras.layers.Activation('relu'))\n",
    "        \n",
    "cnn.add(tf.keras.layers.Conv2D(n_fmaps2, kernel_size=5, activation='relu', padding='valid'))\n",
    "cnn.add(tf.keras.layers.AveragePooling2D(pool_size=2, strides=2, padding='valid'))\n",
    "cnn.add(tf.keras.layers.Activation('relu'))\n",
    "        \n",
    "#cnn.add(tf.keras.layers.Conv2D(n_fmaps3, kernel_size=5, activation='relu', padding='valid'))\n",
    "#cnn.add(tf.keras.layers.Activation('relu'))\n",
    "\n",
    "cnn.add(tf.keras.layers.Flatten())\n",
    "\n",
    "cnn.add(tf.keras.layers.Dense(units=120, activation='relu'))\n",
    "cnn.add(tf.keras.layers.Dense(units=84, activation='relu'))\n",
    "cnn.add(tf.keras.layers.Dense(units=1, activation = 'softmax'))\n",
    "        \n",
    "cnn.summary()"
   ]
  },
  {
   "cell_type": "code",
   "execution_count": 2,
   "metadata": {},
   "outputs": [
    {
     "ename": "NameError",
     "evalue": "name 'tf' is not defined",
     "output_type": "error",
     "traceback": [
      "\u001b[1;31m---------------------------------------------------------------------------\u001b[0m",
      "\u001b[1;31mNameError\u001b[0m                                 Traceback (most recent call last)",
      "\u001b[1;32m<ipython-input-2-7bf0d032cd1f>\u001b[0m in \u001b[0;36m<module>\u001b[1;34m\u001b[0m\n\u001b[0;32m      1\u001b[0m \u001b[1;31m## Compiling the model. Using different loss functions and optimizers.\u001b[0m\u001b[1;33m\u001b[0m\u001b[1;33m\u001b[0m\u001b[1;33m\u001b[0m\u001b[0m\n\u001b[1;32m----> 2\u001b[1;33m \u001b[0msgd\u001b[0m  \u001b[1;33m=\u001b[0m \u001b[0mtf\u001b[0m\u001b[1;33m.\u001b[0m\u001b[0mkeras\u001b[0m\u001b[1;33m.\u001b[0m\u001b[0moptimizers\u001b[0m\u001b[1;33m.\u001b[0m\u001b[0mSGD\u001b[0m\u001b[1;33m(\u001b[0m\u001b[0mlr\u001b[0m\u001b[1;33m=\u001b[0m\u001b[0mlearning_rate\u001b[0m\u001b[1;33m)\u001b[0m\u001b[1;33m\u001b[0m\u001b[1;33m\u001b[0m\u001b[0m\n\u001b[0m\u001b[0;32m      3\u001b[0m \u001b[0mcnn\u001b[0m\u001b[1;33m.\u001b[0m\u001b[0mcompile\u001b[0m\u001b[1;33m(\u001b[0m\u001b[0mloss\u001b[0m\u001b[1;33m=\u001b[0m\u001b[1;34m'mean_squared_error'\u001b[0m\u001b[1;33m,\u001b[0m \u001b[0moptimizer\u001b[0m\u001b[1;33m=\u001b[0m\u001b[0msgd\u001b[0m \u001b[1;33m,\u001b[0m \u001b[0mmetrics\u001b[0m\u001b[1;33m=\u001b[0m\u001b[1;33m[\u001b[0m\u001b[1;34m'accuracy'\u001b[0m\u001b[1;33m]\u001b[0m\u001b[1;33m)\u001b[0m\u001b[1;33m\u001b[0m\u001b[1;33m\u001b[0m\u001b[0m\n",
      "\u001b[1;31mNameError\u001b[0m: name 'tf' is not defined"
     ]
    }
   ],
   "source": [
    "## Compiling the model. Using different loss functions and optimizers.\n",
    "sgd  = tf.keras.optimizers.SGD(lr=learning_rate)\n",
    "cnn.compile(loss='mean_squared_error', optimizer=sgd , metrics=['accuracy'])"
   ]
  },
  {
   "cell_type": "code",
   "execution_count": 50,
   "metadata": {},
   "outputs": [],
   "source": [
    "# Transform label into array of categories using one-hot encoding\n",
    "y_train_cat = tf.keras.utils.to_categorical(y_train, 10)\n",
    "y_test_cat  = tf.keras.utils.to_categorical(y_test, 10)"
   ]
  },
  {
   "cell_type": "code",
   "execution_count": 52,
   "metadata": {},
   "outputs": [
    {
     "name": "stdout",
     "output_type": "stream",
     "text": [
      "Epoch 1/5\n",
      "60000/60000 [==============================] - 24s 407us/step - loss: 20.2774 - acc: 0.1124\n",
      "Epoch 2/5\n",
      "60000/60000 [==============================] - 26s 432us/step - loss: 20.2774 - acc: 0.1124\n",
      "Epoch 3/5\n",
      "60000/60000 [==============================] - 30s 501us/step - loss: 20.2774 - acc: 0.1124\n",
      "Epoch 4/5\n",
      "60000/60000 [==============================] - 30s 493us/step - loss: 20.2774 - acc: 0.1124\n",
      "Epoch 5/5\n",
      "60000/60000 [==============================] - 31s 520us/step - loss: 20.2774 - acc: 0.1124\n"
     ]
    },
    {
     "data": {
      "text/plain": [
       "<tensorflow.python.keras.callbacks.History at 0x180802a4748>"
      ]
     },
     "execution_count": 52,
     "metadata": {},
     "output_type": "execute_result"
    }
   ],
   "source": [
    "#Fit the model\n",
    "cnn.fit(X_Traindata, y_train, epochs=5 ,batch_size=128 , verbose=1)"
   ]
  },
  {
   "cell_type": "code",
   "execution_count": 13,
   "metadata": {},
   "outputs": [
    {
     "name": "stdout",
     "output_type": "stream",
     "text": [
      "10000/10000 [==============================] - 2s 208us/step\n",
      "0.9373\n"
     ]
    }
   ],
   "source": [
    "#Evaluate model and compute the score\n",
    "\n",
    "score = cnn.evaluate(X_test, y_test_cat,verbose=1)\n",
    "print (score[1])"
   ]
  },
  {
   "cell_type": "code",
   "execution_count": 168,
   "metadata": {},
   "outputs": [],
   "source": [
    "# Compute the network prediction for the test sample\n",
    "network_output  = cnn.predict(X_test)"
   ]
  },
  {
   "cell_type": "code",
   "execution_count": 178,
   "metadata": {},
   "outputs": [
    {
     "name": "stdout",
     "output_type": "stream",
     "text": [
      "True label: 6  - Predicted label: 6\n"
     ]
    }
   ],
   "source": [
    "# Checking the predictions for some examples\n",
    "# Define some index, get the corresponding label\n",
    "some_index = 11\n",
    "target_label = np.int64(y_test[some_index])\n",
    "\n",
    "# Query the network for the predicted label\n",
    "predicted_label = np.argmax(network_output[some_index])\n",
    "print('True label:',target_label,' - Predicted label:',predicted_label)"
   ]
  },
  {
   "cell_type": "code",
   "execution_count": 15,
   "metadata": {},
   "outputs": [],
   "source": [
    "## Trying a different architecture\n",
    "n_fmaps = 6\n",
    "n_fmaps2 = 16\n",
    "n_fmaps3 = 120\n",
    "\n",
    "npix = 28\n",
    "learning_rate = 0.1"
   ]
  },
  {
   "cell_type": "code",
   "execution_count": 16,
   "metadata": {},
   "outputs": [
    {
     "name": "stdout",
     "output_type": "stream",
     "text": [
      "_________________________________________________________________\n",
      "Layer (type)                 Output Shape              Param #   \n",
      "=================================================================\n",
      "conv2d_4 (Conv2D)            (None, 28, 28, 6)         156       \n",
      "_________________________________________________________________\n",
      "average_pooling2d_4 (Average (None, 14, 14, 6)         0         \n",
      "_________________________________________________________________\n",
      "activation_4 (Activation)    (None, 14, 14, 6)         0         \n",
      "_________________________________________________________________\n",
      "conv2d_5 (Conv2D)            (None, 10, 10, 16)        2416      \n",
      "_________________________________________________________________\n",
      "average_pooling2d_5 (Average (None, 5, 5, 16)          0         \n",
      "_________________________________________________________________\n",
      "activation_5 (Activation)    (None, 5, 5, 16)          0         \n",
      "_________________________________________________________________\n",
      "conv2d_6 (Conv2D)            (None, 1, 1, 120)         48120     \n",
      "_________________________________________________________________\n",
      "activation_6 (Activation)    (None, 1, 1, 120)         0         \n",
      "_________________________________________________________________\n",
      "flatten_1 (Flatten)          (None, 120)               0         \n",
      "_________________________________________________________________\n",
      "dense_3 (Dense)              (None, 120)               14520     \n",
      "_________________________________________________________________\n",
      "dense_4 (Dense)              (None, 84)                10164     \n",
      "_________________________________________________________________\n",
      "dense_5 (Dense)              (None, 10)                850       \n",
      "=================================================================\n",
      "Total params: 76,226\n",
      "Trainable params: 76,226\n",
      "Non-trainable params: 0\n",
      "_________________________________________________________________\n"
     ]
    }
   ],
   "source": [
    "# New CNN\n",
    "cnn2 = tf.keras.models.Sequential()\n",
    "\n",
    "cnn2.add(tf.keras.layers.Conv2D(n_fmaps, kernel_size=5, padding='same', activation='relu', input_shape=(npix,npix,1)))\n",
    "cnn2.add(tf.keras.layers.AveragePooling2D(pool_size=2, strides=2, padding='valid'))\n",
    "cnn2.add(tf.keras.layers.Activation('relu'))\n",
    "        \n",
    "cnn2.add(tf.keras.layers.Conv2D(n_fmaps2, kernel_size=5, activation='relu', padding='valid'))\n",
    "cnn2.add(tf.keras.layers.AveragePooling2D(pool_size=2, strides=2, padding='valid'))\n",
    "cnn2.add(tf.keras.layers.Activation('relu'))\n",
    "        \n",
    "cnn2.add(tf.keras.layers.Conv2D(n_fmaps3, kernel_size=5, activation='relu', padding='valid'))\n",
    "cnn2.add(tf.keras.layers.Activation('relu'))\n",
    "\n",
    "cnn2.add(tf.keras.layers.Flatten())\n",
    "\n",
    "cnn2.add(tf.keras.layers.Dense(units=120, activation='relu'))\n",
    "cnn2.add(tf.keras.layers.Dense(units=84, activation='relu'))\n",
    "cnn2.add(tf.keras.layers.Dense(units=10, activation = 'softmax'))\n",
    "        \n",
    "cnn2.summary()"
   ]
  },
  {
   "cell_type": "code",
   "execution_count": 17,
   "metadata": {},
   "outputs": [],
   "source": [
    "sgd  = tf.keras.optimizers.SGD(lr=learning_rate)\n",
    "cnn2.compile(loss='mean_squared_error', optimizer=sgd , metrics=['accuracy'])"
   ]
  },
  {
   "cell_type": "code",
   "execution_count": 18,
   "metadata": {},
   "outputs": [
    {
     "name": "stdout",
     "output_type": "stream",
     "text": [
      "Epoch 1/10\n",
      "60000/60000 [==============================] - 24s 408us/step - loss: 0.0899 - acc: 0.2060\n",
      "Epoch 2/10\n",
      "60000/60000 [==============================] - 25s 420us/step - loss: 0.0898 - acc: 0.2398\n",
      "Epoch 3/10\n",
      "60000/60000 [==============================] - 30s 501us/step - loss: 0.0897 - acc: 0.2645\n",
      "Epoch 4/10\n",
      "60000/60000 [==============================] - 30s 497us/step - loss: 0.0895 - acc: 0.3332\n",
      "Epoch 5/10\n",
      "60000/60000 [==============================] - 30s 496us/step - loss: 0.0890 - acc: 0.4216\n",
      "Epoch 6/10\n",
      "60000/60000 [==============================] - 30s 499us/step - loss: 0.0875 - acc: 0.4412\n",
      "Epoch 7/10\n",
      "60000/60000 [==============================] - 30s 502us/step - loss: 0.0704 - acc: 0.53700s - loss: 0.0709 - a\n",
      "Epoch 8/10\n",
      "60000/60000 [==============================] - 30s 495us/step - loss: 0.0283 - acc: 0.8243\n",
      "Epoch 9/10\n",
      "60000/60000 [==============================] - 30s 496us/step - loss: 0.0194 - acc: 0.8728\n",
      "Epoch 10/10\n",
      "60000/60000 [==============================] - 31s 515us/step - loss: 0.0163 - acc: 0.8933\n"
     ]
    },
    {
     "data": {
      "text/plain": [
       "<tensorflow.python.keras.callbacks.History at 0x1670c6af0f0>"
      ]
     },
     "execution_count": 18,
     "metadata": {},
     "output_type": "execute_result"
    }
   ],
   "source": [
    "#Fit the model\n",
    "cnn2.fit(X_Traindata, y_train_cat, epochs=10 ,batch_size=128 , verbose=1)"
   ]
  },
  {
   "cell_type": "code",
   "execution_count": 19,
   "metadata": {},
   "outputs": [
    {
     "name": "stdout",
     "output_type": "stream",
     "text": [
      "10000/10000 [==============================] - 2s 214us/step\n",
      "0.9058\n"
     ]
    }
   ],
   "source": [
    "score2 = cnn2.evaluate(X_test, y_test_cat,verbose=1)\n",
    "print (score2[1])"
   ]
  },
  {
   "cell_type": "code",
   "execution_count": 20,
   "metadata": {},
   "outputs": [],
   "source": [
    "# Trying new optimizer\n",
    "adam = tf.keras.optimizers.Adam(lr=0.001, beta_1=0.9, beta_2=0.999, epsilon=None, decay=0.0, amsgrad=False)"
   ]
  },
  {
   "cell_type": "code",
   "execution_count": 21,
   "metadata": {},
   "outputs": [
    {
     "name": "stdout",
     "output_type": "stream",
     "text": [
      "_________________________________________________________________\n",
      "Layer (type)                 Output Shape              Param #   \n",
      "=================================================================\n",
      "conv2d_7 (Conv2D)            (None, 28, 28, 6)         156       \n",
      "_________________________________________________________________\n",
      "average_pooling2d_6 (Average (None, 14, 14, 6)         0         \n",
      "_________________________________________________________________\n",
      "activation_7 (Activation)    (None, 14, 14, 6)         0         \n",
      "_________________________________________________________________\n",
      "conv2d_8 (Conv2D)            (None, 10, 10, 16)        2416      \n",
      "_________________________________________________________________\n",
      "average_pooling2d_7 (Average (None, 5, 5, 16)          0         \n",
      "_________________________________________________________________\n",
      "activation_8 (Activation)    (None, 5, 5, 16)          0         \n",
      "_________________________________________________________________\n",
      "flatten_2 (Flatten)          (None, 400)               0         \n",
      "_________________________________________________________________\n",
      "dense_6 (Dense)              (None, 120)               48120     \n",
      "_________________________________________________________________\n",
      "dense_7 (Dense)              (None, 84)                10164     \n",
      "_________________________________________________________________\n",
      "dense_8 (Dense)              (None, 10)                850       \n",
      "=================================================================\n",
      "Total params: 61,706\n",
      "Trainable params: 61,706\n",
      "Non-trainable params: 0\n",
      "_________________________________________________________________\n"
     ]
    }
   ],
   "source": [
    "cnn3 = tf.keras.models.Sequential()\n",
    "\n",
    "cnn3.add(tf.keras.layers.Conv2D(n_fmaps, kernel_size=5, padding='same', activation='relu', input_shape=(npix,npix,1)))\n",
    "cnn3.add(tf.keras.layers.AveragePooling2D(pool_size=2, strides=2, padding='valid'))\n",
    "cnn3.add(tf.keras.layers.Activation('relu'))\n",
    "        \n",
    "cnn3.add(tf.keras.layers.Conv2D(n_fmaps2, kernel_size=5, activation='relu', padding='valid'))\n",
    "cnn3.add(tf.keras.layers.AveragePooling2D(pool_size=2, strides=2, padding='valid'))\n",
    "cnn3.add(tf.keras.layers.Activation('relu'))\n",
    "\n",
    "cnn3.add(tf.keras.layers.Flatten())\n",
    "\n",
    "cnn3.add(tf.keras.layers.Dense(units=120, activation='relu'))\n",
    "cnn3.add(tf.keras.layers.Dense(units=84, activation='relu'))\n",
    "cnn3.add(tf.keras.layers.Dense(units=10, activation = 'softmax'))\n",
    "        \n",
    "cnn3.summary()"
   ]
  },
  {
   "cell_type": "code",
   "execution_count": 22,
   "metadata": {},
   "outputs": [],
   "source": [
    "cnn3.compile(loss='mean_squared_error', optimizer=adam , metrics=['accuracy'])"
   ]
  },
  {
   "cell_type": "code",
   "execution_count": 23,
   "metadata": {},
   "outputs": [
    {
     "name": "stdout",
     "output_type": "stream",
     "text": [
      "Epoch 1/10\n",
      "60000/60000 [==============================] - 24s 401us/step - loss: 0.0172 - acc: 0.8816\n",
      "Epoch 2/10\n",
      "60000/60000 [==============================] - 30s 500us/step - loss: 0.0052 - acc: 0.96631s - loss: 0.0053 - a - ETA: 0s - loss: 0.0053 - acc:\n",
      "Epoch 3/10\n",
      "60000/60000 [==============================] - 30s 497us/step - loss: 0.0036 - acc: 0.9772\n",
      "Epoch 4/10\n",
      "60000/60000 [==============================] - 30s 504us/step - loss: 0.0029 - acc: 0.9813\n",
      "Epoch 5/10\n",
      "60000/60000 [==============================] - 29s 487us/step - loss: 0.0025 - acc: 0.9839\n",
      "Epoch 6/10\n",
      "60000/60000 [==============================] - 29s 487us/step - loss: 0.0021 - acc: 0.9867\n",
      "Epoch 7/10\n",
      "60000/60000 [==============================] - 29s 484us/step - loss: 0.0019 - acc: 0.9881\n",
      "Epoch 8/10\n",
      "60000/60000 [==============================] - 29s 484us/step - loss: 0.0017 - acc: 0.9896\n",
      "Epoch 9/10\n",
      "60000/60000 [==============================] - 29s 484us/step - loss: 0.0015 - acc: 0.9909\n",
      "Epoch 10/10\n",
      "60000/60000 [==============================] - 29s 483us/step - loss: 0.0014 - acc: 0.9911\n"
     ]
    },
    {
     "data": {
      "text/plain": [
       "<tensorflow.python.keras.callbacks.History at 0x1671d8fa080>"
      ]
     },
     "execution_count": 23,
     "metadata": {},
     "output_type": "execute_result"
    }
   ],
   "source": [
    "cnn3.fit(X_Traindata, y_train_cat, epochs=10 ,batch_size=128 , verbose=1)"
   ]
  },
  {
   "cell_type": "code",
   "execution_count": 26,
   "metadata": {},
   "outputs": [
    {
     "name": "stdout",
     "output_type": "stream",
     "text": [
      "10000/10000 [==============================] - 2s 219us/step\n",
      "0.9892\n"
     ]
    }
   ],
   "source": [
    "score3 = cnn3.evaluate(X_test, y_test_cat,verbose=1)\n",
    "print (score3[1])"
   ]
  },
  {
   "cell_type": "code",
   "execution_count": 27,
   "metadata": {},
   "outputs": [
    {
     "name": "stdout",
     "output_type": "stream",
     "text": [
      "_________________________________________________________________\n",
      "Layer (type)                 Output Shape              Param #   \n",
      "=================================================================\n",
      "conv2d_9 (Conv2D)            (None, 28, 28, 6)         156       \n",
      "_________________________________________________________________\n",
      "average_pooling2d_8 (Average (None, 14, 14, 6)         0         \n",
      "_________________________________________________________________\n",
      "activation_9 (Activation)    (None, 14, 14, 6)         0         \n",
      "_________________________________________________________________\n",
      "conv2d_10 (Conv2D)           (None, 10, 10, 16)        2416      \n",
      "_________________________________________________________________\n",
      "average_pooling2d_9 (Average (None, 5, 5, 16)          0         \n",
      "_________________________________________________________________\n",
      "activation_10 (Activation)   (None, 5, 5, 16)          0         \n",
      "_________________________________________________________________\n",
      "flatten_3 (Flatten)          (None, 400)               0         \n",
      "_________________________________________________________________\n",
      "dense_9 (Dense)              (None, 120)               48120     \n",
      "_________________________________________________________________\n",
      "dense_10 (Dense)             (None, 84)                10164     \n",
      "_________________________________________________________________\n",
      "dense_11 (Dense)             (None, 10)                850       \n",
      "=================================================================\n",
      "Total params: 61,706\n",
      "Trainable params: 61,706\n",
      "Non-trainable params: 0\n",
      "_________________________________________________________________\n"
     ]
    }
   ],
   "source": [
    "cnn4 = tf.keras.models.Sequential()\n",
    "\n",
    "cnn4.add(tf.keras.layers.Conv2D(n_fmaps, kernel_size=5, padding='same', activation='relu', input_shape=(npix,npix,1)))\n",
    "cnn4.add(tf.keras.layers.AveragePooling2D(pool_size=2, strides=2, padding='valid'))\n",
    "cnn4.add(tf.keras.layers.Activation('relu'))\n",
    "        \n",
    "cnn4.add(tf.keras.layers.Conv2D(n_fmaps2, kernel_size=5, activation='relu', padding='valid'))\n",
    "cnn4.add(tf.keras.layers.AveragePooling2D(pool_size=2, strides=2, padding='valid'))\n",
    "cnn4.add(tf.keras.layers.Activation('relu'))\n",
    "\n",
    "cnn4.add(tf.keras.layers.Flatten())\n",
    "\n",
    "cnn4.add(tf.keras.layers.Dense(units=120, activation='relu'))\n",
    "cnn4.add(tf.keras.layers.Dense(units=84, activation='relu'))\n",
    "cnn4.add(tf.keras.layers.Dense(units=10, activation = 'softmax'))\n",
    "        \n",
    "cnn4.summary()"
   ]
  },
  {
   "cell_type": "code",
   "execution_count": 30,
   "metadata": {},
   "outputs": [],
   "source": [
    "cnn4.compile(loss='kullback_leibler_divergence', optimizer=adam , metrics=['accuracy'])"
   ]
  },
  {
   "cell_type": "code",
   "execution_count": 31,
   "metadata": {},
   "outputs": [
    {
     "name": "stdout",
     "output_type": "stream",
     "text": [
      "Epoch 1/5\n",
      "60000/60000 [==============================] - 26s 431us/step - loss: 0.1988 - acc: 0.9389\n",
      "Epoch 2/5\n",
      "60000/60000 [==============================] - 31s 514us/step - loss: 0.0650 - acc: 0.9795\n",
      "Epoch 3/5\n",
      "60000/60000 [==============================] - 30s 499us/step - loss: 0.0479 - acc: 0.9845\n",
      "Epoch 4/5\n",
      "60000/60000 [==============================] - 30s 503us/step - loss: 0.0377 - acc: 0.9888\n",
      "Epoch 5/5\n",
      "60000/60000 [==============================] - 32s 536us/step - loss: 0.0323 - acc: 0.9896\n"
     ]
    },
    {
     "data": {
      "text/plain": [
       "<tensorflow.python.keras.callbacks.History at 0x16701d99978>"
      ]
     },
     "execution_count": 31,
     "metadata": {},
     "output_type": "execute_result"
    }
   ],
   "source": [
    "cnn4.fit(X_Traindata, y_train_cat, epochs=5 ,batch_size=128 , verbose=1)"
   ]
  },
  {
   "cell_type": "code",
   "execution_count": 32,
   "metadata": {},
   "outputs": [
    {
     "name": "stdout",
     "output_type": "stream",
     "text": [
      "10000/10000 [==============================] - 2s 227us/step\n",
      "0.9857\n"
     ]
    }
   ],
   "source": [
    "score4 = cnn4.evaluate(X_test, y_test_cat,verbose=1)\n",
    "print (score4[1])"
   ]
  },
  {
   "cell_type": "code",
   "execution_count": 3,
   "metadata": {},
   "outputs": [],
   "source": [
    "### As we saw a combination of 'kullback_leibler_divergence' and optimizer adam worked the best.Get the MNIST data"
   ]
  }
 ],
 "metadata": {
  "kernelspec": {
   "display_name": "Python 3",
   "language": "python",
   "name": "python3"
  },
  "language_info": {
   "codemirror_mode": {
    "name": "ipython",
    "version": 3
   },
   "file_extension": ".py",
   "mimetype": "text/x-python",
   "name": "python",
   "nbconvert_exporter": "python",
   "pygments_lexer": "ipython3",
   "version": "3.6.8"
  }
 },
 "nbformat": 4,
 "nbformat_minor": 1
}
